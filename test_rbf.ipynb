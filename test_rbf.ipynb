{
 "cells": [
  {
   "cell_type": "code",
   "execution_count": 1,
   "metadata": {},
   "outputs": [
    {
     "name": "stdout",
     "output_type": "stream",
     "text": [
      "Intel MKL WARNING: Support of Intel(R) Streaming SIMD Extensions 4.2 (Intel(R) SSE4.2) enabled only processors has been deprecated. Intel oneAPI Math Kernel Library 2025.0 will require Intel(R) Advanced Vector Extensions (Intel(R) AVX) instructions.\n",
      "Intel MKL WARNING: Support of Intel(R) Streaming SIMD Extensions 4.2 (Intel(R) SSE4.2) enabled only processors has been deprecated. Intel oneAPI Math Kernel Library 2025.0 will require Intel(R) Advanced Vector Extensions (Intel(R) AVX) instructions.\n",
      "tensor([[10.9056],\n",
      "        [11.3658],\n",
      "        [17.7271],\n",
      "        [ 8.1200],\n",
      "        [ 3.0216]])\n",
      "tensor([[10.9056,  7.2064,  3.9120,  1.8940,  0.2785],\n",
      "        [ 7.2064, 11.3658,  3.2966, -3.9080,  2.0720],\n",
      "        [ 3.9120,  3.2966, 17.7271,  0.4083,  0.4300],\n",
      "        [ 1.8940, -3.9080,  0.4083,  8.1200, -0.9674],\n",
      "        [ 0.2785,  2.0720,  0.4300, -0.9674,  3.0216]])\n",
      "tensor([[10.9056, 11.3658, 17.7271,  8.1200,  3.0216]])\n",
      "tensor([[1.0000e+00, 3.8642e-04, 9.1804e-10, 2.4120e-07, 1.5609e-06],\n",
      "        [3.8642e-04, 1.0000e+00, 1.6924e-10, 1.3899e-12, 3.5594e-05],\n",
      "        [9.1804e-10, 1.6924e-10, 1.0000e+00, 1.3470e-11, 2.3040e-09],\n",
      "        [2.4120e-07, 1.3899e-12, 1.3470e-11, 1.0000e+00, 2.0941e-06],\n",
      "        [1.5609e-06, 3.5594e-05, 2.3040e-09, 2.0941e-06, 1.0000e+00]])\n"
     ]
    }
   ],
   "source": [
    "import torch\n",
    "import torch.nn as nn\n",
    "\n",
    "def rbf_kernel(x):\n",
    "    gamma = 1.0  # Gamma is the inverse of the variance; adjust it as needed\n",
    "    x_norm = (x**2).sum(1).view(-1, 1)\n",
    "    print(x_norm)\n",
    "    x_prod = torch.mm(x, x.t())\n",
    "    print(x_prod)\n",
    "    print(x_norm.t())\n",
    "    rbf = torch.exp(-gamma * (x_norm + x_norm.t() - 2 * x_prod))\n",
    "    return rbf\n",
    "\n",
    "sample = torch.randn(5, 10)\n",
    "rbf = rbf_kernel(sample)\n",
    "print(rbf)"
   ]
  },
  {
   "cell_type": "code",
   "execution_count": 14,
   "metadata": {},
   "outputs": [
    {
     "data": {
      "text/plain": [
       "torch.Size([5, 5])"
      ]
     },
     "execution_count": 14,
     "metadata": {},
     "output_type": "execute_result"
    }
   ],
   "source": [
    "rbf.shape"
   ]
  },
  {
   "cell_type": "code",
   "execution_count": 12,
   "metadata": {},
   "outputs": [
    {
     "name": "stdout",
     "output_type": "stream",
     "text": [
      "tensor([ 0.7565, -0.4134])\n"
     ]
    }
   ],
   "source": [
    "print(sample[0])"
   ]
  },
  {
   "cell_type": "code",
   "execution_count": null,
   "metadata": {},
   "outputs": [],
   "source": []
  }
 ],
 "metadata": {
  "kernelspec": {
   "display_name": "llm",
   "language": "python",
   "name": "python3"
  },
  "language_info": {
   "codemirror_mode": {
    "name": "ipython",
    "version": 3
   },
   "file_extension": ".py",
   "mimetype": "text/x-python",
   "name": "python",
   "nbconvert_exporter": "python",
   "pygments_lexer": "ipython3",
   "version": "3.11.7"
  }
 },
 "nbformat": 4,
 "nbformat_minor": 2
}
