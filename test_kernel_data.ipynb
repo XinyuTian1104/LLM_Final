{
 "cells": [
  {
   "cell_type": "code",
   "execution_count": 8,
   "metadata": {},
   "outputs": [],
   "source": [
    "import numpy as np\n",
    "from numpy.linalg import eigh\n",
    "from scipy.stats import special_ortho_group\n",
    "# from scipy.spatial.distance import pdist, squareform"
   ]
  },
  {
   "cell_type": "code",
   "execution_count": 9,
   "metadata": {},
   "outputs": [],
   "source": [
    "def sample_from_sphere(N, d):\n",
    "    \"\"\" Generate N d-dimensional vectors uniformly sampled from the unit sphere. \"\"\"\n",
    "    xi = np.random.randn(N, d)\n",
    "    xi /= np.linalg.norm(xi, axis=1, keepdims=True)\n",
    "    return xi\n",
    "\n",
    "def generate_covariates(N, d=10):\n",
    "    \"\"\" Generate N covariates x^{(i)} based on the description. \"\"\"\n",
    "    D = np.diag([1, 1, 0.25, 2.25, 1] + [1] * (d - 5))\n",
    "    U = special_ortho_group.rvs(dim=d)\n",
    "    Sigma_sqrt = U.T @ np.sqrt(D) @ U\n",
    "    xi = sample_from_sphere(N, d)\n",
    "    return Sigma_sqrt @ xi.T\n",
    "\n",
    "def kernel_matrix(X, kernel_type='linear'):\n",
    "    \"\"\" Compute the kernel matrix for different types of kernels. \"\"\"\n",
    "    if kernel_type == 'linear':\n",
    "        return X.T @ X\n",
    "    elif kernel_type == 'relu':\n",
    "        return np.maximum(X.T @ X, 0)\n",
    "    elif kernel_type == 'exp':\n",
    "        return np.exp(X.T @ X)\n",
    "\n",
    "def gaussian_process(N, kernel_type):\n",
    "    \"\"\" Generate labels y^{(i)} using a Gaussian Process. \"\"\"\n",
    "    X = generate_covariates(N)\n",
    "    K = kernel_matrix(X, kernel_type=kernel_type)\n",
    "    eigvals, eigvecs = eigh(K)\n",
    "    K_plus = eigvecs @ np.diag(np.abs(eigvals)) @ eigvecs.T\n",
    "    X = X.T\n",
    "    return X, np.random.multivariate_normal(np.zeros(N), K_plus)"
   ]
  },
  {
   "cell_type": "code",
   "execution_count": 10,
   "metadata": {},
   "outputs": [
    {
     "name": "stdout",
     "output_type": "stream",
     "text": [
      "(10, 10)\n",
      "The shape of xi: (5, 10)\n",
      "Intel MKL WARNING: Support of Intel(R) Streaming SIMD Extensions 4.2 (Intel(R) SSE4.2) enabled only processors has been deprecated. Intel oneAPI Math Kernel Library 2025.0 will require Intel(R) Advanced Vector Extensions (Intel(R) AVX) instructions.\n",
      "[[-0.26129557 -0.19103813 -0.20753888 -0.06698089 -0.37786894 -0.26217595\n",
      "  -0.52501432 -0.53025769  0.01816147  0.27956417]\n",
      " [-0.30627804 -0.24151949 -0.61831367  0.20891018  0.47543401  0.05628515\n",
      "  -0.0322445  -0.09974851  0.42511992  0.02182368]\n",
      " [ 0.13616555 -0.02125894 -0.17238148 -0.86426077  0.158742    0.06520823\n",
      "   0.14735863  0.25880334  0.37185453  0.05740556]\n",
      " [-0.29953041 -0.22739268 -0.45475475  0.31299666 -0.62152266  0.23937856\n",
      "   0.21974033  0.16520104  0.32463194 -0.08345543]\n",
      " [-0.21146871 -0.38289178  0.54812159 -0.32998459  0.30242495 -0.50857222\n",
      "  -0.33767632 -0.08341033 -0.03110509 -0.00663919]]\n",
      "(5, 10)\n",
      "[-3.76695925 -0.14943362 -0.04335937 -0.24726158 -0.42761125]\n",
      "(5,)\n"
     ]
    }
   ],
   "source": [
    "N = 5\n",
    "X, Y = gaussian_process(N, 'exp')\n",
    "print(X)\n",
    "print(X.shape)\n",
    "print(Y)\n",
    "print(Y.shape)"
   ]
  },
  {
   "cell_type": "code",
   "execution_count": null,
   "metadata": {},
   "outputs": [],
   "source": []
  }
 ],
 "metadata": {
  "kernelspec": {
   "display_name": "llm",
   "language": "python",
   "name": "python3"
  },
  "language_info": {
   "codemirror_mode": {
    "name": "ipython",
    "version": 3
   },
   "file_extension": ".py",
   "mimetype": "text/x-python",
   "name": "python",
   "nbconvert_exporter": "python",
   "pygments_lexer": "ipython3",
   "version": "3.11.7"
  }
 },
 "nbformat": 4,
 "nbformat_minor": 2
}
