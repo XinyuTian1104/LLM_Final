{
  "cells": [
    {
      "cell_type": "code",
      "execution_count": 9,
      "metadata": {
        "id": "-syFmFqZUwwu"
      },
      "outputs": [],
      "source": [
        "import torch\n",
        "import torch.nn as nn\n",
        "import numpy as np\n",
        "import matplotlib.pyplot as plt\n",
        "import tqdm\n",
        "# ignore Intel MKL WARNING\n",
        "import os\n",
        "os.environ['KMP_WARNINGS'] = 'off'"
      ]
    },
    {
      "cell_type": "markdown",
      "metadata": {},
      "source": [
        "# Data Generation"
      ]
    },
    {
      "cell_type": "markdown",
      "metadata": {},
      "source": [
        "## Linear Data"
      ]
    },
    {
      "cell_type": "code",
      "execution_count": 2,
      "metadata": {
        "id": "oA4nzz_OU4W6"
      },
      "outputs": [],
      "source": [
        "# Parameters\n",
        "mu = np.ones(10) # Mean vector for the weight distribution\n",
        "I10 = np.identity(10) # Identity matrix for covariates and weights\n",
        "\n",
        "def generate_contextual_data(N):\n",
        "    \"\"\"\n",
        "    Generate contextual data for a given context size N.\n",
        "    Returns weights w, covariates X, and corresponding y values.\n",
        "    \"\"\"\n",
        "    c_m = []\n",
        "    # Draw weight vector w for the context\n",
        "    w = np.random.multivariate_normal(mu, I10)\n",
        "\n",
        "    for _ in range(N):\n",
        "      # Draw covariates xi and compute corresponding yi = wT * xi\n",
        "      x = np.random.multivariate_normal(np.zeros(10), I10, 1)\n",
        "      y = np.dot(x, w.T)\n",
        "      c_m.append((x,y))\n",
        "    return c_m"
      ]
    },
    {
      "cell_type": "markdown",
      "metadata": {},
      "source": [
        "## Linear Data with Noise"
      ]
    },
    {
      "cell_type": "code",
      "execution_count": 3,
      "metadata": {},
      "outputs": [],
      "source": [
        "# Parameters\n",
        "mu = np.ones(10) # Mean vector for the weight distribution\n",
        "I10 = np.identity(10) # Identity matrix for covariates and weights\n",
        "sigma_squared = 1.0  # Variance of the noise\n",
        "\n",
        "def generate_contextual_data_with_noise(N):\n",
        "    \"\"\"\n",
        "    Generate contextual data for a given context size N.\n",
        "    Returns covariates X, and corresponding noisy y values.\n",
        "    \"\"\"\n",
        "    c_m = []\n",
        "    # Draw weight vector w for the context\n",
        "    w = np.random.multivariate_normal(mu, I10)\n",
        "\n",
        "    for _ in range(N):\n",
        "        # Draw covariates xi\n",
        "        x = np.random.multivariate_normal(np.zeros(10), I10, 1)\n",
        "        # Generate noise epsilon_i from N(0, sigma_squared)\n",
        "        epsilon = np.random.normal(0, sigma_squared)\n",
        "        # Compute corresponding yi = wT * xi + epsilon\n",
        "        y = np.dot(x, w.T) + epsilon\n",
        "        c_m.append((x, y))\n",
        "    return c_m"
      ]
    },
    {
      "cell_type": "markdown",
      "metadata": {},
      "source": [
        "## Non-linear Data with Noise"
      ]
    },
    {
      "cell_type": "code",
      "execution_count": 4,
      "metadata": {},
      "outputs": [],
      "source": [
        "d = 10\n",
        "# Identity matrix for weights\n",
        "Id = np.identity(d)\n",
        "\n",
        "# Define v and u based on cos(jπ/5) and sin(jπ/5)\n",
        "j = np.arange(1, d + 1)\n",
        "v = np.cos(j * np.pi / 5)\n",
        "u = np.sin(j * np.pi / 5)\n",
        "\n",
        "def generate_contextual_data_non_linear(N):\n",
        "    \"\"\"\n",
        "    Generate contextual data for a given context size N.\n",
        "    Returns covariates X, and corresponding y values.\n",
        "    \"\"\"\n",
        "    c_m = []\n",
        "    # Draw weight vector w_m for the context from N(0_d, I_d)\n",
        "    w_m = np.random.multivariate_normal(np.zeros(d), Id)\n",
        "\n",
        "    for _ in range(N):\n",
        "        # Draw α, β from N(0, 1)\n",
        "        alpha = np.random.normal(0, 1)\n",
        "        beta = np.random.normal(0, 1)\n",
        "        # Generate ε with each ε_j from N(0, 1/100)\n",
        "        epsilon = np.random.normal(0, np.sqrt(1/100), d)\n",
        "        # Compute xm,i = αv + βu + ε\n",
        "        x_m_i = alpha * v + beta * u + epsilon\n",
        "        # Compute corresponding ym,i = w_m^T xm,i\n",
        "        y_m_i = np.dot(w_m, x_m_i)\n",
        "        c_m.append((x_m_i, y_m_i))\n",
        "    return c_m"
      ]
    },
    {
      "cell_type": "code",
      "execution_count": 88,
      "metadata": {},
      "outputs": [],
      "source": [
        "# sample non-linear data with guassian distribution with bias\n",
        "def generate_contextual_data_non_linear_with_bias(N):\n",
        "    \"\"\"\n",
        "    Generate contextual data for a given context size N.\n",
        "    Returns covariates X, and corresponding y values.\n",
        "    \"\"\"\n",
        "    c_m = []\n",
        "    # Draw weight vector w_m for the context from N(0_d, I_d)\n",
        "    w_m = np.random.multivariate_normal(np.zeros(d), Id)\n",
        "\n",
        "    for _ in range(N):\n",
        "        # Draw α, β from N(0, 1)\n",
        "        alpha = np.random.normal(0, 1)\n",
        "        beta = np.random.normal(0, 1)\n",
        "        # Generate ε with each ε_j from N(0, 1/100)\n",
        "        epsilon = np.random.normal(0, np.sqrt(1/100), d)\n",
        "        # Compute xm,i = αv + βu + ε\n",
        "        x_m_i = alpha * v + beta * u + epsilon\n",
        "        # Compute corresponding ym,i = w_m^T xm,i + bias\n",
        "        y_m_i = np.dot(w_m, x_m_i) + np.random.normal(0, 1)\n",
        "        c_m.append((x_m_i, y_m_i))\n",
        "    return c_m"
      ]
    },
    {
      "cell_type": "code",
      "execution_count": 95,
      "metadata": {},
      "outputs": [],
      "source": [
        "# generate non-linear data with exponential guassian distribution with bias\n",
        "def generate_contextual_data_non_linear_with_bias_exp(N):\n",
        "    \"\"\"\n",
        "    Generate contextual data for a given context size N.\n",
        "    Returns covariates X, and corresponding y values.\n",
        "    \"\"\"\n",
        "    c_m = []\n",
        "    # Draw weight vector w_m for the context from N(0_d, I_d)\n",
        "    w_m = np.random.multivariate_normal(np.zeros(d), Id)\n",
        "\n",
        "    for _ in range(N):\n",
        "        # Draw α, β from N(0, 1)\n",
        "        alpha = np.random.normal(0, 1)\n",
        "        beta = np.random.normal(0, 1)\n",
        "        # Generate ε with each ε_j from N(0, 1/100)\n",
        "        epsilon = np.random.normal(0, np.sqrt(1/100), d)\n",
        "        # Compute xm,i = αv + βu + ε\n",
        "        x_m_i = alpha * v + beta * u + epsilon\n",
        "        # Compute corresponding ym,i = w_m^T xm,i + bias\n",
        "        y_m_i = np.dot(w_m, x_m_i) + np.random.exponential(1)\n",
        "        c_m.append((x_m_i, y_m_i))\n",
        "    return c_m"
      ]
    },
    {
      "cell_type": "code",
      "execution_count": null,
      "metadata": {},
      "outputs": [],
      "source": [
        "# generate non-linear data from a kernel guassian distribution with bias\n",
        "def generate_contextual_data_non_linear_with_bias_kernel(N):\n",
        "    \"\"\"\n",
        "    Generate contextual data for a given context size N.\n",
        "    Returns covariates X, and corresponding y values.\n",
        "    \"\"\"\n",
        "    c_m = []\n",
        "    # Draw weight vector w_m for the context from N(0_d, I_d)\n",
        "    w_m = np.random.multivariate_normal(np.zeros(d), Id)\n",
        "\n",
        "    for _ in range(N):\n",
        "        # Draw α, β from N(0, 1)\n",
        "        alpha = np.random.normal(0, 1)\n",
        "        beta = np.random.normal(0, 1)\n",
        "        # Generate ε with each ε_j from N(0, 1/100)\n",
        "        epsilon = np.random.normal(0, np.sqrt(1/100), d)\n",
        "        # Compute xm,i = αv + βu + ε\n",
        "        x_m_i = alpha * v + beta * u + epsilon\n",
        "        # Compute corresponding ym,i = w_m^T xm,i + bias\n",
        "        y_m_i = np.dot(w_m, x_m_i) + np.random.normal(0, 1) + np.random.normal(0, 1)\n",
        "        c_m.append((x_m_i, y_m_i))\n",
        "    return c_m"
      ]
    },
    {
      "cell_type": "code",
      "execution_count": 97,
      "metadata": {},
      "outputs": [
        {
          "data": {
            "image/png": "[encoded data removed]",
            "text/plain": [
              "<Figure size 1000x500 with 1 Axes>"
            ]
          },
          "metadata": {},
          "output_type": "display_data"
        }
      ],
      "source": [
        "import numpy as np\n",
        "\n",
        "# Define the RBF kernel function\n",
        "def rbf_kernel(X1, X2, length_scale=1.0):\n",
        "    sqdist = np.sum(X1**2, 1).reshape(-1, 1) + np.sum(X2**2, 1) - 2 * np.dot(X1, X2.T)\n",
        "    return np.exp(-0.5 / length_scale**2 * sqdist)\n",
        "\n",
        "# Generate input points\n",
        "X = np.linspace(0, 10, 100).reshape(-1, 1)\n",
        "\n",
        "# Compute the covariance matrix using the RBF kernel\n",
        "K = rbf_kernel(X, X)\n",
        "\n",
        "# Generate random outputs from the multivariate normal distribution\n",
        "Y = np.random.multivariate_normal(mean=np.zeros(100), cov=K)\n"
      ]
    },
    {
      "cell_type": "markdown",
      "metadata": {},
      "source": [
        "# Data from Kernels"
      ]
    },
    {
      "cell_type": "code",
      "execution_count": 1,
      "metadata": {},
      "outputs": [
        {
          "name": "stdout",
          "output_type": "stream",
          "text": [
            "Intel MKL WARNING: Support of Intel(R) Streaming SIMD Extensions 4.2 (Intel(R) SSE4.2) enabled only processors has been deprecated. Intel oneAPI Math Kernel Library 2025.0 will require Intel(R) Advanced Vector Extensions (Intel(R) AVX) instructions.\n",
            "Intel MKL WARNING: Support of Intel(R) Streaming SIMD Extensions 4.2 (Intel(R) SSE4.2) enabled only processors has been deprecated. Intel oneAPI Math Kernel Library 2025.0 will require Intel(R) Advanced Vector Extensions (Intel(R) AVX) instructions.\n"
          ]
        }
      ],
      "source": [
        "from numpy.linalg import eigh\n",
        "from scipy.stats import special_ortho_group"
      ]
    },
    {
      "cell_type": "code",
      "execution_count": 2,
      "metadata": {},
      "outputs": [],
      "source": [
        "def sample_from_sphere(N, d):\n",
        "    \"\"\" Generate N d-dimensional vectors uniformly sampled from the unit sphere. \"\"\"\n",
        "    xi = np.random.randn(N, d)\n",
        "    xi /= np.linalg.norm(xi, axis=1, keepdims=True)\n",
        "    return xi\n",
        "\n",
        "def generate_covariates(N, d=10):\n",
        "    \"\"\" Generate N covariates x^{(i)} based on the description. \"\"\"\n",
        "    D = np.diag([1, 1, 0.25, 2.25, 1] + [1] * (d - 5))\n",
        "    U = special_ortho_group.rvs(dim=d)\n",
        "    Sigma_sqrt = U.T @ np.sqrt(D) @ U\n",
        "    xi = sample_from_sphere(N, d)\n",
        "    return Sigma_sqrt @ xi.T\n",
        "\n",
        "def kernel_matrix(X, kernel_type='linear'):\n",
        "    \"\"\" Compute the kernel matrix for different types of kernels. \"\"\"\n",
        "    if kernel_type == 'linear':\n",
        "        return X.T @ X\n",
        "    elif kernel_type == 'relu':\n",
        "        return np.maximum(X.T @ X, 0)\n",
        "    elif kernel_type == 'exp':\n",
        "        return np.exp(X.T @ X)\n",
        "\n",
        "def gaussian_process(N, kernel_type):\n",
        "    \"\"\" Generate labels y^{(i)} using a Gaussian Process. \"\"\"\n",
        "    X = generate_covariates(N)\n",
        "    K = kernel_matrix(X, kernel_type=kernel_type)\n",
        "    eigvals, eigvecs = eigh(K)\n",
        "    K_plus = eigvecs @ np.diag(np.abs(eigvals)) @ eigvecs.T\n",
        "    X = X.T\n",
        "    return X, np.random.multivariate_normal(np.zeros(N), K_plus)"
      ]
    },
    {
      "cell_type": "code",
      "execution_count": 3,
      "metadata": {},
      "outputs": [],
      "source": [
        "def generate_contextual_data_gp(N, kernel_type='linear'):\n",
        "    \"\"\"\n",
        "    Generate contextual data for a given context size N.\n",
        "    Returns covariates X, and corresponding y values.\n",
        "    \"\"\"\n",
        "    X, y = gaussian_process(N, kernel_type=kernel_type)\n",
        "    c_m = [(x, y) for x, y in zip(X, y)]\n",
        "    return c_m"
      ]
    },
    {
      "cell_type": "markdown",
      "metadata": {},
      "source": [
        "# Designed Kernel Attention"
      ]
    },
    {
      "cell_type": "code",
      "execution_count": 5,
      "metadata": {},
      "outputs": [],
      "source": [
        "def rbf_kernel(x1, x2, sigma=1.0):\n",
        "    \"\"\"\n",
        "    Compute the RBF kernel between two vectors x1 and x2.\n",
        "    x1: tensor, shape torch.Size([5, 11])\n",
        "    x2: tensor, shape torch.Size([5, 11])\n",
        "    \"\"\"\n",
        "    X_expanded = x1.unsqueeze(1)  # Shape becomes [5, 1, 11]\n",
        "    Y_expanded = x2.unsqueeze(0)  # Shape becomes [1, 5, 11]\n",
        "    pairwise_diff = X_expanded - Y_expanded\n",
        "    squared_distances = torch.norm(pairwise_diff, dim=2) ** 2\n",
        "    output = torch.exp(-squared_distances / (sigma ** 2))\n",
        "    # # normalize the kernel\n",
        "    # output = output / torch.sum(output, dim=1, keepdim=True)\n",
        "    # print(output)\n",
        "    return output"
      ]
    },
    {
      "cell_type": "code",
      "execution_count": 90,
      "metadata": {},
      "outputs": [],
      "source": [
        "def laplacian_kernel(x1, x2, sigma=1.0):\n",
        "    \"\"\"\n",
        "    Compute the exponential kernel between two vectors x1 and x2.\n",
        "    x1: tensor, shape torch.Size([5, 11])\n",
        "    x2: tensor, shape torch.Size([5, 11])\n",
        "    \"\"\"\n",
        "    X_expanded = x1.unsqueeze(1)  # Shape becomes [5, 1, 11]\n",
        "    Y_expanded = x2.unsqueeze(0)  # Shape becomes [1, 5, 11]\n",
        "    pairwise_diff = X_expanded - Y_expanded\n",
        "    squared_distances = torch.norm(pairwise_diff, dim=2) ** 2\n",
        "    output = torch.exp(-torch.sqrt(squared_distances) / sigma)\n",
        "    return output"
      ]
    },
    {
      "cell_type": "code",
      "execution_count": 91,
      "metadata": {},
      "outputs": [],
      "source": [
        "def exp_kernel(x1, x2):\n",
        "    \"\"\"\n",
        "    Compute the exponential kernel between two vectors x1 and x2.\n",
        "    x1: tensor, shape torch.Size([5, 11])\n",
        "    x2: tensor, shape torch.Size([5, 11])\n",
        "    kernel = exp()\n",
        "    \"\"\"\n",
        "    output = torch.exp(torch.matmul(x1, x2.T))\n",
        "    print(output)\n",
        "    return output"
      ]
    },
    {
      "cell_type": "code",
      "execution_count": 6,
      "metadata": {
        "id": "KqgPPcOzU7fm"
      },
      "outputs": [],
      "source": [
        "class DesignedKernelAttention(nn.Module):\n",
        "    def __init__(self, dim, alpha):\n",
        "        super(DesignedKernelAttention, self).__init__()\n",
        "        self.dim = dim\n",
        "        self.alpha = alpha\n",
        "\n",
        "        # Define multi-head configuration\n",
        "        self.num_heads = 2\n",
        "\n",
        "        # Initialize weights for each head\n",
        "        self.W_q = nn.ParameterList([\n",
        "            nn.Parameter(torch.eye(self.dim + 1), requires_grad=False),\n",
        "            nn.Parameter(torch.zeros(self.dim + 1, self.dim+1), requires_grad=False)\n",
        "        ])\n",
        "        self.W_q[0][self.dim, self.dim] = 0\n",
        "        \n",
        "        self.W_k = nn.ParameterList([\n",
        "            nn.Parameter(torch.eye(self.dim + 1), requires_grad=False),\n",
        "            nn.Parameter(torch.zeros(self.dim + 1, self.dim+1), requires_grad=False)\n",
        "        ])\n",
        "        self.W_k[0][self.dim, self.dim] = 0\n",
        "\n",
        "        self.W_v = nn.Parameter(torch.zeros(self.dim+1, self.dim+1), requires_grad=False)\n",
        "        self.W_v[self.dim, self.dim] = -self.alpha\n",
        "\n",
        "    def forward(self, x):\n",
        "        # Apply multi-head attention by adding outputs from each head\n",
        "        multi_head_output = torch.zeros(x.size(0), self.dim+1)\n",
        "\n",
        "        for i in range(self.num_heads):\n",
        "            Q = torch.matmul(x, self.W_q[i].T)\n",
        "            K = torch.matmul(x, self.W_k[i].T)\n",
        "            V = torch.matmul(x, self.W_v.T)\n",
        "\n",
        "            # Use RBF kernel on Q and K to calculate attention scores\n",
        "            # kernel_attention_scores = rbf_kernel(Q, K)\n",
        "            kernel_attention_scores = exp_kernel(Q, K)\n",
        "            # print(kernel_attention_scores)\n",
        "            # transfer kernel_attention_scores to a tensor\n",
        "            # if i==0:\n",
        "            #     # normalize the kernel\n",
        "            #     kernel_attention_scores = kernel_attention_scores / torch.sum(kernel_attention_scores, dim=1, keepdim=True)\n",
        "            output = torch.matmul(kernel_attention_scores, V)\n",
        "            multi_head_output += output\n",
        "\n",
        "        return multi_head_output"
      ]
    },
    {
      "cell_type": "code",
      "execution_count": 7,
      "metadata": {},
      "outputs": [],
      "source": [
        "class DesignedKernelTransformer(nn.Module):\n",
        "    def __init__(self, input_dim, alpha, num_layers):\n",
        "        super(DesignedKernelTransformer, self).__init__()\n",
        "        self.num_layers = num_layers\n",
        "        self.attention = DesignedKernelAttention(input_dim, alpha)\n",
        "\n",
        "    def forward(self, x):\n",
        "        for _ in range(self.num_layers):\n",
        "            attention_output = self.attention(x)\n",
        "            x = x + attention_output\n",
        "        return x"
      ]
    },
    {
      "cell_type": "markdown",
      "metadata": {},
      "source": [
        "# Test"
      ]
    },
    {
      "cell_type": "code",
      "execution_count": null,
      "metadata": {},
      "outputs": [],
      "source": [
        "lr = 0.001\n",
        "epochs = 1000\n",
        "losses = []\n",
        "for N in range(5, 21):\n",
        "    criterion = nn.MSELoss()\n",
        "    mse_loss = []\n",
        "\n",
        "    for epoch in tqdm.trange(epochs):\n",
        "        model = DesignedKernelTransformer(10, lr, 12)\n",
        "        # test_data = generate_contextual_data_with_noise(N)\n",
        "        # test_data = generate_contextual_data_non_linear_with_bias_exp(N)\n",
        "        test_data = generate_contextual_data_gp(N, kernel_type='exp')\n",
        "        x, y = zip(*test_data)\n",
        "        x = torch.tensor(x).squeeze().float()\n",
        "        y = torch.tensor(y).squeeze().float()\n",
        "        y_true = y[-1]\n",
        "        x = torch.cat([x, y.unsqueeze(1)], dim=1)\n",
        "        x[-1, -1] = 0\n",
        "        output = model(x)\n",
        "        loss = criterion(-output[-1, -1], y_true)\n",
        "        mse_loss.append(loss.item())\n",
        "\n",
        "    print(f\"Adaptation loss: N={N}, Loss={np.mean(mse_loss)}\")\n",
        "    losses.append(np.mean(mse_loss))"
      ]
    },
    {
      "cell_type": "code",
      "execution_count": null,
      "metadata": {},
      "outputs": [],
      "source": []
    }
  ],
  "metadata": {
    "accelerator": "GPU",
    "colab": {
      "gpuType": "T4",
      "provenance": []
    },
    "kernelspec": {
      "display_name": "Python 3",
      "name": "python3"
    },
    "language_info": {
      "codemirror_mode": {
        "name": "ipython",
        "version": 3
      },
      "file_extension": ".py",
      "mimetype": "text/x-python",
      "name": "python",
      "nbconvert_exporter": "python",
      "pygments_lexer": "ipython3",
      "version": "3.11.7"
    }
  },
  "nbformat": 4,
  "nbformat_minor": 0
}
